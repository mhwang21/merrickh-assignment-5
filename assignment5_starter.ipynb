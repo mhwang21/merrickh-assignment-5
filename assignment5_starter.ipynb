{
  "cells": [
    {
      "cell_type": "code",
      "execution_count": 1,
      "metadata": {
        "id": "NM_sxn1bYGzl"
      },
      "outputs": [],
      "source": [
        "import numpy as np\n",
        "import pandas as pd\n",
        "from sklearn.preprocessing import StandardScaler, LabelEncoder\n",
        "from sklearn.metrics import roc_auc_score"
      ]
    },
    {
      "cell_type": "code",
      "execution_count": 13,
      "metadata": {
        "id": "2v5D_vDwYGzm"
      },
      "outputs": [],
      "source": [
        "# Define the KNN class\n",
        "class KNN:\n",
        "    def __init__(self, k=3, distance_metric='euclidean'):\n",
        "        self.k = k\n",
        "        self.distance_metric = distance_metric\n",
        "\n",
        "    def fit(self, X, y):\n",
        "        \"\"\"Store the training data.\"\"\"\n",
        "        self.X_train = np.array(X)\n",
        "        self.y_train = np.array(y)\n",
        "\n",
        "    def compute_distances(self, X):\n",
        "        \"\"\"Compute distances between test data and all training samples.\"\"\"\n",
        "        if self.distance_metric == 'euclidean':\n",
        "            return np.sqrt(((X[:, np.newaxis] - self.X_train) ** 2).sum(axis=2))\n",
        "        elif self.distance_metric == 'manhattan':\n",
        "            return np.abs(X[:, np.newaxis] - self.X_train).sum(axis=2)\n",
        "        else:\n",
        "            raise ValueError(\"Unsupported distance metric\")\n",
        "\n",
        "    def predict(self, X):\n",
        "        \"\"\"Predict probabilities for the given data.\"\"\"\n",
        "        distances = self.compute_distances(X)\n",
        "        nearest_indices = np.argsort(distances, axis=1)[:, :self.k]\n",
        "        nearest_labels = self.y_train[nearest_indices]\n",
        "        return np.mean(nearest_labels, axis=1)"
      ]
    },
    {
      "cell_type": "code",
      "execution_count": 14,
      "metadata": {
        "id": "GHjPhic1YGzm"
      },
      "outputs": [],
      "source": [
        "# Define data preprocessing function\n",
        "def preprocess_data(train_path, test_path):\n",
        "    train_data = pd.read_csv(train_path)\n",
        "    test_data = pd.read_csv(test_path)\n",
        "\n",
        "    y_train = train_data['Exited']\n",
        "    X_train = train_data.drop(['id', 'CustomerId', 'Surname', 'Exited'], axis=1)\n",
        "    X_test = test_data.drop(['id', 'CustomerId', 'Surname'], axis=1)\n",
        "\n",
        "    # Encode categorical variables (Geography and Gender)\n",
        "    label_encoder_geo = LabelEncoder()\n",
        "    label_encoder_gender = LabelEncoder()\n",
        "\n",
        "    X_train['Geography'] = label_encoder_geo.fit_transform(X_train['Geography'])\n",
        "    X_train['Gender'] = label_encoder_gender.fit_transform(X_train['Gender'])\n",
        "\n",
        "    X_test['Geography'] = label_encoder_geo.transform(X_test['Geography'])\n",
        "    X_test['Gender'] = label_encoder_gender.transform(X_test['Gender'])\n",
        "\n",
        "    # Standardize the numerical features for KNN\n",
        "    scaler = StandardScaler()\n",
        "    X_train_scaled = scaler.fit_transform(X_train)\n",
        "    X_test_scaled = scaler.transform(X_test)\n",
        "\n",
        "    return X_train_scaled, y_train, X_test_scaled, test_data['id']"
      ]
    },
    {
      "cell_type": "code",
      "execution_count": 15,
      "metadata": {
        "id": "BMXNf0hZYGzm"
      },
      "outputs": [],
      "source": [
        "# Define cross-validation function\n",
        "def cross_validate(X, y, knn, n_splits=5):\n",
        "    fold_size = len(X) // n_splits\n",
        "    roc_auc_scores = []\n",
        "\n",
        "    for i in range(n_splits):\n",
        "        # Define the indices for validation and training sets\n",
        "        start = i * fold_size\n",
        "        end = start + fold_size\n",
        "\n",
        "        X_val, y_val = X[start:end], y[start:end]\n",
        "        X_train = np.concatenate((X[:start], X[end:]), axis=0)\n",
        "        y_train = np.concatenate((y[:start], y[end:]), axis=0)\n",
        "\n",
        "        # Fit the KNN model on the training data\n",
        "        knn.fit(X_train, y_train)\n",
        "\n",
        "        # Predict probabilities on the validation data\n",
        "        y_prob = knn.predict(X_val)\n",
        "\n",
        "        # Calculate ROC AUC score and store it\n",
        "        score = roc_auc_score(y_val, y_prob)\n",
        "        roc_auc_scores.append(score)\n",
        "\n",
        "    # Return the average ROC AUC score across all folds\n",
        "    return np.mean(roc_auc_scores), roc_auc_scores"
      ]
    },
    {
      "cell_type": "code",
      "execution_count": 16,
      "metadata": {
        "id": "Gf8KpbO1YGzm",
        "colab": {
          "base_uri": "https://localhost:8080/"
        },
        "outputId": "ed03557b-0b2c-476a-9d53-98a054ff156d"
      },
      "outputs": [
        {
          "output_type": "stream",
          "name": "stdout",
          "text": [
            "Cross-validation scores: (0.8742747202408111, [0.8748263586245969, 0.881579283089903, 0.8745085190039318, 0.8734393829671969, 0.8670200575184273])\n",
            "K=1, AUC=0.7545\n",
            "K=2, AUC=0.8179\n",
            "K=3, AUC=0.8459\n",
            "K=4, AUC=0.8646\n",
            "K=5, AUC=0.8743\n",
            "K=6, AUC=0.8798\n",
            "K=7, AUC=0.8830\n",
            "K=8, AUC=0.8864\n",
            "K=9, AUC=0.8885\n",
            "K=10, AUC=0.8910\n",
            "Best K: 10, Best AUC: 0.8909911083564582\n"
          ]
        }
      ],
      "source": [
        "# Load and preprocess data\n",
        "X, y, X_test, test_ids = preprocess_data('train.csv', 'test.csv')\n",
        "\n",
        "# Create and evaluate model\n",
        "knn = KNN(k=5, distance_metric='euclidean')\n",
        "\n",
        "# Perform cross-validation\n",
        "cv_scores = cross_validate(X, y, knn)\n",
        "\n",
        "print(\"Cross-validation scores:\", cv_scores)\n",
        "\n",
        "# TODO: hyperparamters tuning\n",
        "def tune_hyperparameters(X, y, max_k=10):\n",
        "    \"\"\"Tune the hyperparameter K and return the best K with its CV score.\"\"\"\n",
        "    best_k = 1\n",
        "    best_score = 0\n",
        "    for k in range(1, max_k + 1):\n",
        "        knn = KNN(k=k, distance_metric='euclidean')\n",
        "        mean_auc, _ = cross_validate(X, y, knn, n_splits=5)\n",
        "        print(f\"K={k}, AUC={mean_auc:.4f}\")\n",
        "        if mean_auc > best_score:\n",
        "            best_score = mean_auc\n",
        "            best_k = k\n",
        "    return best_k, best_score\n",
        "\n",
        "best_k, best_score = tune_hyperparameters(X, y)\n",
        "print(f\"Best K: {best_k}, Best AUC: {best_score}\")\n",
        "\n",
        "# TODO: Train on full dataset with optimal hyperparameters and make predictions on test set\n",
        "knn = KNN(k=best_k, distance_metric='euclidean')\n",
        "knn.fit(X, y)\n",
        "test_predictions = knn.predict(X_test)\n",
        "\n",
        "# Save test predictions\n",
        "pd.DataFrame({'id': pd.read_csv('test.csv')['id'], 'Exited': test_predictions}).to_csv('submissions.csv', index=False)"
      ]
    }
  ],
  "metadata": {
    "kernelspec": {
      "display_name": "Python 3",
      "name": "python3"
    },
    "language_info": {
      "codemirror_mode": {
        "name": "ipython",
        "version": 3
      },
      "file_extension": ".py",
      "mimetype": "text/x-python",
      "name": "python",
      "nbconvert_exporter": "python",
      "pygments_lexer": "ipython3",
      "version": "3.10.15"
    },
    "colab": {
      "provenance": [],
      "gpuType": "L4"
    },
    "accelerator": "GPU"
  },
  "nbformat": 4,
  "nbformat_minor": 0
}